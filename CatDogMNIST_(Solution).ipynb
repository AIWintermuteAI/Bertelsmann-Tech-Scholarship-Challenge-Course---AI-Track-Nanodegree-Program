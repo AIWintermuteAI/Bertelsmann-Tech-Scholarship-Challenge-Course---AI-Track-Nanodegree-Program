{
  "nbformat": 4,
  "nbformat_minor": 0,
  "metadata": {
    "kernelspec": {
      "display_name": "Python 3",
      "language": "python",
      "name": "python3"
    },
    "language_info": {
      "codemirror_mode": {
        "name": "ipython",
        "version": 3
      },
      "file_extension": ".py",
      "mimetype": "text/x-python",
      "name": "python",
      "nbconvert_exporter": "python",
      "pygments_lexer": "ipython3",
      "version": "3.6.6"
    },
    "colab": {
      "name": "CatDogMNIST (Solution).ipynb",
      "provenance": [],
      "collapsed_sections": [],
      "include_colab_link": true
    }
  },
  "cells": [
    {
      "cell_type": "markdown",
      "metadata": {
        "id": "view-in-github",
        "colab_type": "text"
      },
      "source": [
        "<a href=\"https://colab.research.google.com/github/AIWintermuteAI/Bertelsmann-Tech-Scholarship-Challenge-Course---AI-Track-Nanodegree-Program/blob/master/CatDogMNIST_(Solution).ipynb\" target=\"_parent\"><img src=\"https://colab.research.google.com/assets/colab-badge.svg\" alt=\"Open In Colab\"/></a>"
      ]
    },
    {
      "cell_type": "markdown",
      "metadata": {
        "id": "38HCD44Dk-G6",
        "colab_type": "text"
      },
      "source": [
        "# CatDogMNIST\n",
        "\n",
        "We'll be using a [dataset of cat and dog photos](https://www.kaggle.com/c/dogs-vs-cats) available from Kaggle. Here are a couple example images:\n",
        "\n",
        "<img src='https://github.com/udacity/deep-learning-v2-pytorch/blob/master/intro-to-pytorch/assets/dog_cat.png?raw=1'>\n",
        "\n",
        "It's a fun exercise to use the knowledge about building FC neural netowrks with pytorch and transform cats-vs-dogs Kaggle dataset into a MNIST like dataset that this model can (sort of) learn.\n",
        "\n",
        "We'll start by downloading and unzipping the dataset."
      ]
    },
    {
      "cell_type": "code",
      "metadata": {
        "id": "IXdHU2iv0Oah",
        "colab_type": "code",
        "outputId": "7275a21c-7626-4486-e3fe-09958eb94700",
        "colab": {
          "base_uri": "https://localhost:8080/",
          "height": 217
        }
      },
      "source": [
        "!wget https://s3.amazonaws.com/content.udacity-data.com/nd089/Cat_Dog_data.zip\n",
        "!unzip -q Cat_Dog_data.zip "
      ],
      "execution_count": 1,
      "outputs": [
        {
          "output_type": "stream",
          "text": [
            "--2020-02-05 15:04:40--  https://s3.amazonaws.com/content.udacity-data.com/nd089/Cat_Dog_data.zip\n",
            "Resolving s3.amazonaws.com (s3.amazonaws.com)... 52.216.207.85\n",
            "Connecting to s3.amazonaws.com (s3.amazonaws.com)|52.216.207.85|:443... connected.\n",
            "HTTP request sent, awaiting response... 200 OK\n",
            "Length: 580495262 (554M) [application/zip]\n",
            "Saving to: ‘Cat_Dog_data.zip’\n",
            "\n",
            "Cat_Dog_data.zip    100%[===================>] 553.60M  35.6MB/s    in 16s     \n",
            "\n",
            "2020-02-05 15:04:57 (33.9 MB/s) - ‘Cat_Dog_data.zip’ saved [580495262/580495262]\n",
            "\n"
          ],
          "name": "stdout"
        }
      ]
    },
    {
      "cell_type": "markdown",
      "metadata": {
        "id": "_DLc3VBL4z_K",
        "colab_type": "text"
      },
      "source": [
        "Next we'll do the necesary imports. Nothing special, mostly the stuff we had in the original notebook by Udacity, plus Python random module."
      ]
    },
    {
      "cell_type": "code",
      "metadata": {
        "id": "UAxa_Sqmk-HD",
        "colab_type": "code",
        "colab": {}
      },
      "source": [
        "import matplotlib.pyplot as plt\n",
        "import random\n",
        "import torch\n",
        "from torchvision import datasets, transforms"
      ],
      "execution_count": 0,
      "outputs": []
    },
    {
      "cell_type": "markdown",
      "metadata": {
        "id": "yeWVEtsm5hhi",
        "colab_type": "text"
      },
      "source": [
        "Create the training and testing loaders --- use the same transform for both, since using image augumentations is too hardcore for our simple fully-connected model."
      ]
    },
    {
      "cell_type": "code",
      "metadata": {
        "id": "lFhgiaiUk-H-",
        "colab_type": "code",
        "colab": {}
      },
      "source": [
        "data_dir = 'Cat_Dog_data'\n",
        "\n",
        "# TODO: Define transforms for the training data and testing data\n",
        "transform = transforms.Compose([transforms.Grayscale(num_output_channels=1),\n",
        "                                transforms.Resize(28),\n",
        "                                transforms.CenterCrop(28),\n",
        "                                transforms.ToTensor()])\n",
        "\n",
        "\n",
        "# Pass transforms in here, then run the next cell to see how the transforms look\n",
        "train_data = datasets.ImageFolder(data_dir + '/train', transform=transform)\n",
        "test_data = datasets.ImageFolder(data_dir + '/test', transform=transform)\n",
        "\n",
        "trainloader = torch.utils.data.DataLoader(train_data, batch_size=32,shuffle=True)\n",
        "testloader = torch.utils.data.DataLoader(test_data, batch_size=32,shuffle=True)"
      ],
      "execution_count": 0,
      "outputs": []
    },
    {
      "cell_type": "markdown",
      "metadata": {
        "id": "nFTKEWAT5wpq",
        "colab_type": "text"
      },
      "source": [
        "And check the results in the first batch. Well, it's not too bad. I can distinguish between cats and dogs in most images."
      ]
    },
    {
      "cell_type": "code",
      "metadata": {
        "id": "IlQLBiXhk-IG",
        "colab_type": "code",
        "outputId": "3bb749e2-a560-4c19-f862-fbe81f6e30cd",
        "colab": {
          "base_uri": "https://localhost:8080/",
          "height": 1000
        }
      },
      "source": [
        "# change this to the trainloader or testloader \n",
        "data_iter = iter(trainloader)\n",
        "images, labels = next(data_iter)\n",
        "for ii in range(4):\n",
        "  num = random.randint(0, len(images)-1)\n",
        "  plt.imshow(images[num].view(28, 28))\n",
        "  plt.show()\n",
        "  print(labels[num])\n"
      ],
      "execution_count": 4,
      "outputs": [
        {
          "output_type": "display_data",
          "data": {
            "image/png": "[encoded data removed]",
            "text/plain": [
              "<Figure size 432x288 with 1 Axes>"
            ]
          },
          "metadata": {
            "tags": []
          }
        },
        {
          "output_type": "stream",
          "text": [
            "tensor(1)\n"
          ],
          "name": "stdout"
        },
        {
          "output_type": "display_data",
          "data": {
            "image/png": "[encoded data removed]",
            "text/plain": [
              "<Figure size 432x288 with 1 Axes>"
            ]
          },
          "metadata": {
            "tags": []
          }
        },
        {
          "output_type": "stream",
          "text": [
            "tensor(0)\n"
          ],
          "name": "stdout"
        },
        {
          "output_type": "display_data",
          "data": {
            "image/png": "[encoded data removed]",
            "text/plain": [
              "<Figure size 432x288 with 1 Axes>"
            ]
          },
          "metadata": {
            "tags": []
          }
        },
        {
          "output_type": "stream",
          "text": [
            "tensor(0)\n"
          ],
          "name": "stdout"
        },
        {
          "output_type": "display_data",
          "data": {
            "image/png": "[encoded data removed]",
            "text/plain": [
              "<Figure size 432x288 with 1 Axes>"
            ]
          },
          "metadata": {
            "tags": []
          }
        },
        {
          "output_type": "stream",
          "text": [
            "tensor(0)\n"
          ],
          "name": "stdout"
        }
      ]
    },
    {
      "cell_type": "markdown",
      "metadata": {
        "id": "rTM_6tXDk-IR",
        "colab_type": "text"
      },
      "source": [
        "Great! Let's define our model. We'll use the model similiar to the one we used before for MNIST and FashionMNIST. The only significant change is adding a multiplier to optionally make the network wider."
      ]
    },
    {
      "cell_type": "code",
      "metadata": {
        "id": "Gy93alhZk-IT",
        "colab_type": "code",
        "colab": {}
      },
      "source": [
        "from torch import nn, optim\n",
        "import torch.nn.functional as F\n",
        "\n",
        "multiplier = 1\n",
        "dropout = 0.2\n",
        "\n",
        "class Classifier(nn.Module):\n",
        "    def __init__(self):\n",
        "        super().__init__()\n",
        "        self.fc1 = nn.Linear(784, int(256*multiplier))\n",
        "        self.fc2 = nn.Linear(int(256*multiplier), int(128*multiplier))\n",
        "        self.fc3 = nn.Linear(int(128*multiplier), int(64*multiplier))\n",
        "        self.fc4 = nn.Linear(int(64*multiplier), 2)\n",
        "        self.dropout = nn.Dropout(p=dropout)\n",
        "    def forward(self, x):\n",
        "        # make sure input tensor is flattened\n",
        "        x = x.view(x.shape[0], -1)\n",
        "        \n",
        "        x = self.dropout(F.relu(self.fc1(x)))\n",
        "        x = self.dropout(F.relu(self.fc2(x)))\n",
        "        x = self.dropout(F.relu(self.fc3(x)))\n",
        "        x = F.log_softmax(self.fc4(x), dim=1)\n",
        "        \n",
        "        return x\n",
        "\n",
        "model = Classifier()\n",
        "criterion = nn.NLLLoss()\n",
        "optimizer = optim.Adam(model.parameters(), lr=0.0001)\n",
        "\n",
        "epochs = 30\n",
        "steps = 0"
      ],
      "execution_count": 0,
      "outputs": []
    },
    {
      "cell_type": "markdown",
      "metadata": {
        "id": "JGJOHA6y6gVD",
        "colab_type": "text"
      },
      "source": [
        "And finally let our little brave model start the training. I had the following results for 0.5, 1 and 2 multiplier after 30 epochs."
      ]
    },
    {
      "cell_type": "code",
      "metadata": {
        "id": "WlTIJa5n6aZB",
        "colab_type": "code",
        "outputId": "81f6aa06-c5fe-4e1f-cc17-46dfe797fbb2",
        "colab": {
          "base_uri": "https://localhost:8080/",
          "height": 344
        }
      },
      "source": [
        "train_losses, test_losses = [], []\n",
        "for e in range(epochs):\n",
        "    running_loss = 0\n",
        "    for images, labels in trainloader:\n",
        "        optimizer.zero_grad()\n",
        "        log_ps = model(images)\n",
        "        loss = criterion(log_ps, labels)\n",
        "        loss.backward()\n",
        "        optimizer.step()\n",
        "        running_loss += loss.item()\n",
        "    else:\n",
        "      test_loss = 0\n",
        "      accuracy = 0\n",
        "      with torch.no_grad():\n",
        "        model.eval()\n",
        "        for images, labels in testloader:\n",
        "          ps = model(images)\n",
        "          top_p, top_class = ps.topk(1, dim=1)\n",
        "          equals = top_class == labels.view(*top_class.shape)\n",
        "          test_loss += criterion(ps, labels)\n",
        "          accuracy += torch.mean(equals.type(torch.FloatTensor))\n",
        "        model.train()\n",
        "        train_losses.append(running_loss/len(trainloader))\n",
        "        test_losses.append(test_loss/len(testloader))\n",
        "        print(\"Epoch: {}/{}.. \".format(e+1, epochs),\n",
        "        \"Training Loss: {:.3f}.. \".format(train_losses[-1]),\n",
        "        \"Test Loss: {:.3f}.. \".format(test_losses[-1]),\n",
        "        \"Test Accuracy: {:.3f}\".format(accuracy/len(testloader)))"
      ],
      "execution_count": 0,
      "outputs": [
        {
          "output_type": "stream",
          "text": [
            "Epoch: 1/30..  Training Loss: 0.688..  Test Loss: 0.675..  Test Accuracy: 0.581\n",
            "Epoch: 2/30..  Training Loss: 0.673..  Test Loss: 0.663..  Test Accuracy: 0.610\n",
            "Epoch: 3/30..  Training Loss: 0.665..  Test Loss: 0.659..  Test Accuracy: 0.606\n",
            "Epoch: 4/30..  Training Loss: 0.660..  Test Loss: 0.658..  Test Accuracy: 0.618\n",
            "Epoch: 5/30..  Training Loss: 0.658..  Test Loss: 0.652..  Test Accuracy: 0.620\n",
            "Epoch: 6/30..  Training Loss: 0.654..  Test Loss: 0.651..  Test Accuracy: 0.625\n",
            "Epoch: 7/30..  Training Loss: 0.652..  Test Loss: 0.651..  Test Accuracy: 0.621\n",
            "Epoch: 8/30..  Training Loss: 0.649..  Test Loss: 0.647..  Test Accuracy: 0.624\n",
            "Epoch: 9/30..  Training Loss: 0.647..  Test Loss: 0.652..  Test Accuracy: 0.621\n",
            "Epoch: 10/30..  Training Loss: 0.646..  Test Loss: 0.645..  Test Accuracy: 0.625\n",
            "Epoch: 11/30..  Training Loss: 0.644..  Test Loss: 0.643..  Test Accuracy: 0.636\n",
            "Epoch: 12/30..  Training Loss: 0.641..  Test Loss: 0.647..  Test Accuracy: 0.625\n",
            "Epoch: 13/30..  Training Loss: 0.640..  Test Loss: 0.645..  Test Accuracy: 0.628\n",
            "Epoch: 14/30..  Training Loss: 0.638..  Test Loss: 0.648..  Test Accuracy: 0.624\n",
            "Epoch: 15/30..  Training Loss: 0.638..  Test Loss: 0.652..  Test Accuracy: 0.611\n",
            "Epoch: 16/30..  Training Loss: 0.635..  Test Loss: 0.645..  Test Accuracy: 0.625\n",
            "Epoch: 17/30..  Training Loss: 0.634..  Test Loss: 0.640..  Test Accuracy: 0.627\n",
            "Epoch: 18/30..  Training Loss: 0.632..  Test Loss: 0.643..  Test Accuracy: 0.628\n"
          ],
          "name": "stdout"
        }
      ]
    }
  ]
}