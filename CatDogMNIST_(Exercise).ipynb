{
  "nbformat": 4,
  "nbformat_minor": 0,
  "metadata": {
    "kernelspec": {
      "display_name": "Python 3",
      "language": "python",
      "name": "python3"
    },
    "language_info": {
      "codemirror_mode": {
        "name": "ipython",
        "version": 3
      },
      "file_extension": ".py",
      "mimetype": "text/x-python",
      "name": "python",
      "nbconvert_exporter": "python",
      "pygments_lexer": "ipython3",
      "version": "3.6.6"
    },
    "colab": {
      "name": "Copy of CatDogMNIST (Exercise).ipynb",
      "provenance": [],
      "collapsed_sections": [],
      "include_colab_link": true
    }
  },
  "cells": [
    {
      "cell_type": "markdown",
      "metadata": {
        "id": "view-in-github",
        "colab_type": "text"
      },
      "source": [
        "<a href=\"https://colab.research.google.com/github/AIWintermuteAI/Bertelsmann-Tech-Scholarship-Challenge-Course---AI-Track-Nanodegree-Program/blob/master/CatDogMNIST_(Exercise).ipynb\" target=\"_parent\"><img src=\"https://colab.research.google.com/assets/colab-badge.svg\" alt=\"Open In Colab\"/></a>"
      ]
    },
    {
      "cell_type": "markdown",
      "metadata": {
        "id": "38HCD44Dk-G6",
        "colab_type": "text"
      },
      "source": [
        "# CatDogMNIST\n",
        "\n",
        "We'll be using a [dataset of cat and dog photos](https://www.kaggle.com/c/dogs-vs-cats) available from Kaggle. Here are a couple example images:\n",
        "\n",
        "<img src='https://github.com/udacity/deep-learning-v2-pytorch/blob/master/intro-to-pytorch/assets/dog_cat.png?raw=1'>\n",
        "\n",
        "It's a fun exercise to use the knowledge about building FC neural netowrks with pytorch and transform cats-vs-dogs Kaggle dataset into a MNIST like dataset that this model can (sort of) learn.\n",
        "\n",
        "We'll start by downloading and unzipping the dataset."
      ]
    },
    {
      "cell_type": "code",
      "metadata": {
        "id": "IXdHU2iv0Oah",
        "colab_type": "code",
        "colab": {}
      },
      "source": [
        "!wget https://s3.amazonaws.com/content.udacity-data.com/nd089/Cat_Dog_data.zip\n",
        "!unzip -q Cat_Dog_data.zip "
      ],
      "execution_count": 0,
      "outputs": []
    },
    {
      "cell_type": "markdown",
      "metadata": {
        "id": "_DLc3VBL4z_K",
        "colab_type": "text"
      },
      "source": [
        "Next we'll do the necesary imports. Nothing special, mostly the stuff we had in the original notebook by Udacity, plus Python random module."
      ]
    },
    {
      "cell_type": "code",
      "metadata": {
        "id": "UAxa_Sqmk-HD",
        "colab_type": "code",
        "colab": {}
      },
      "source": [
        "import matplotlib.pyplot as plt\n",
        "import random\n",
        "import torch\n",
        "from torchvision import datasets, transforms"
      ],
      "execution_count": 0,
      "outputs": []
    },
    {
      "cell_type": "markdown",
      "metadata": {
        "id": "yeWVEtsm5hhi",
        "colab_type": "text"
      },
      "source": [
        "Create the training and testing loaders --- use the same transform for both, since using image augumentations is too hardcore for our simple fully-connected model."
      ]
    },
    {
      "cell_type": "code",
      "metadata": {
        "id": "lFhgiaiUk-H-",
        "colab_type": "code",
        "colab": {}
      },
      "source": [
        "data_dir = 'Cat_Dog_data'\n",
        "\n",
        "# TODO: Define transforms for the training data and testing data. The transform is the same for both, it includes converting to grayscale, resizing, center-crop and finally conversion to tensor.\n",
        "\n",
        "# Pass transforms in here, then run the next cell to see how the transforms look\n",
        "train_data = datasets.ImageFolder(data_dir + '/train', transform=transform)\n",
        "test_data = datasets.ImageFolder(data_dir + '/test', transform=transform)\n",
        "\n",
        "trainloader = torch.utils.data.DataLoader(train_data, batch_size=32,shuffle=True)\n",
        "testloader = torch.utils.data.DataLoader(test_data, batch_size=32,shuffle=True)"
      ],
      "execution_count": 0,
      "outputs": []
    },
    {
      "cell_type": "markdown",
      "metadata": {
        "id": "nFTKEWAT5wpq",
        "colab_type": "text"
      },
      "source": [
        "And check the results in the first batch. Well, it's not too bad. I can distinguish between cats and dogs in most images."
      ]
    },
    {
      "cell_type": "code",
      "metadata": {
        "id": "IlQLBiXhk-IG",
        "colab_type": "code",
        "colab": {}
      },
      "source": [
        "# change this to the trainloader or testloader \n",
        "data_iter = iter(trainloader)\n",
        "images, labels = next(data_iter)\n",
        "\n",
        "#TODO use matplotlib.imshow to display 4 random images from the first batch\n",
        "\n"
      ],
      "execution_count": 0,
      "outputs": []
    },
    {
      "cell_type": "markdown",
      "metadata": {
        "id": "rTM_6tXDk-IR",
        "colab_type": "text"
      },
      "source": [
        "Great! Let's define our model. We'll use the model similiar to the one we used before for MNIST and FashionMNIST. The only significant change is adding a multiplier to optionally make the network wider."
      ]
    },
    {
      "cell_type": "code",
      "metadata": {
        "id": "Gy93alhZk-IT",
        "colab_type": "code",
        "colab": {}
      },
      "source": [
        "from torch import nn, optim\n",
        "import torch.nn.functional as F\n",
        "\n",
        "multiplier = 1\n",
        "dropout = 0.2\n",
        "\n",
        "class Classifier(nn.Module):\n",
        "    def __init__(self):\n",
        "        super().__init__()\n",
        "        #TODO defein the FC layers with multiplier\n",
        "        self.dropout = nn.Dropout(p=dropout)\n",
        "    def forward(self, x):\n",
        "        # make sure input tensor is flattened\n",
        "        x = x.view(x.shape[0], -1)\n",
        "        \n",
        "        x = self.dropout(F.relu(self.fc1(x)))\n",
        "        x = self.dropout(F.relu(self.fc2(x)))\n",
        "        x = self.dropout(F.relu(self.fc3(x)))\n",
        "        x = F.log_softmax(self.fc4(x), dim=1)\n",
        "        \n",
        "        return x\n",
        "\n",
        "model = Classifier()\n",
        "criterion = nn.NLLLoss()\n",
        "optimizer = optim.Adam(model.parameters(), lr=0.0001)\n",
        "\n",
        "epochs = 30\n",
        "steps = 0"
      ],
      "execution_count": 0,
      "outputs": []
    },
    {
      "cell_type": "markdown",
      "metadata": {
        "id": "JGJOHA6y6gVD",
        "colab_type": "text"
      },
      "source": [
        "And finally let our little brave model start the training. I had the following results for 0.5, 1 and 2 multiplier after 30 epochs."
      ]
    },
    {
      "cell_type": "code",
      "metadata": {
        "id": "WlTIJa5n6aZB",
        "colab_type": "code",
        "colab": {}
      },
      "source": [
        "train_losses, test_losses = [], []\n",
        "for e in range(epochs):\n",
        "    running_loss = 0\n",
        "    for images, labels in trainloader:\n",
        "        optimizer.zero_grad()\n",
        "        log_ps = model(images)\n",
        "        loss = criterion(log_ps, labels)\n",
        "        loss.backward()\n",
        "        optimizer.step()\n",
        "        running_loss += loss.item()\n",
        "    else:\n",
        "      test_loss = 0\n",
        "      accuracy = 0\n",
        "      with torch.no_grad():\n",
        "        model.eval()\n",
        "        for images, labels in testloader:\n",
        "          ps = model(images)\n",
        "          top_p, top_class = ps.topk(1, dim=1)\n",
        "          equals = top_class == labels.view(*top_class.shape)\n",
        "          test_loss += criterion(ps, labels)\n",
        "          accuracy += torch.mean(equals.type(torch.FloatTensor))\n",
        "        model.train()\n",
        "        train_losses.append(running_loss/len(trainloader))\n",
        "        test_losses.append(test_loss/len(testloader))\n",
        "        print(\"Epoch: {}/{}.. \".format(e+1, epochs),\n",
        "        \"Training Loss: {:.3f}.. \".format(train_losses[-1]),\n",
        "        \"Test Loss: {:.3f}.. \".format(test_losses[-1]),\n",
        "        \"Test Accuracy: {:.3f}\".format(accuracy/len(testloader)))"
      ],
      "execution_count": 0,
      "outputs": []
    }
  ]
}